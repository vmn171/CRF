{
 "cells": [
  {
   "cell_type": "code",
   "execution_count": 1,
   "metadata": {},
   "outputs": [],
   "source": [
    "import torch\n",
    "import torch.nn as nn\n",
    "from torch.autograd import Variable\n",
    "import torch.nn.functional as F\n",
    "from torchviz import make_dot, make_dot_from_trace\n",
    "from tensorboardX import SummaryWriter\n",
    "\n",
    "%load_ext autoreload\n",
    "%autoreload 2\n",
    "\n",
    "from model import Net,CRFs"
   ]
  },
  {
   "cell_type": "markdown",
   "metadata": {},
   "source": [
    "### 测试数据"
   ]
  },
  {
   "cell_type": "code",
   "execution_count": 2,
   "metadata": {},
   "outputs": [
    {
     "name": "stdout",
     "output_type": "stream",
     "text": [
      "x0:\n",
      "   16     9     6    11    15     4     0    13    14     7    10\n",
      "[torch.LongTensor of size 1x11]\n",
      "\n",
      "y0:\n",
      "    0     1     1     1     2     2     2     0     1     2     2\n",
      "[torch.LongTensor of size 1x11]\n",
      "\n",
      "x1:\n",
      "    3    12     8     2     5     1     3\n",
      "[torch.LongTensor of size 1x7]\n",
      "\n",
      "y1:\n",
      "    0     1     2     2     2     2     0\n",
      "[torch.LongTensor of size 1x7]\n",
      "\n"
     ]
    }
   ],
   "source": [
    "training_data = [(\n",
    "    \"the wall street journal reported today that apple corporation made money\".split(),\n",
    "    \"B I I I O O O B I O O\".split()\n",
    "), (\n",
    "    \"georgia tech is a university in georgia\".split(),\n",
    "    \"B I O O O O B\".split()\n",
    ")]\n",
    "\n",
    "# 创建字典集合\n",
    "vocab = set()\n",
    "for i in range(len(training_data)):\n",
    "    vocab.update(training_data[i][0])\n",
    "\n",
    "tags = set()\n",
    "for i in range(len(training_data)):\n",
    "    tags.update(training_data[i][1])\n",
    "\n",
    "# 创建索引表\n",
    "i2w = {i: w for i, w in enumerate(vocab)}\n",
    "w2i = {w: i for i, w in i2w.items()}\n",
    "i2t = {i: w for i, w in enumerate(tags)}\n",
    "t2i = {w: i for i, w in i2t.items()}\n",
    "\n",
    "def sent2tensor(sent): # 句子转tensor\n",
    "    ls = [w2i[w] for w in sent]\n",
    "    ts = torch.LongTensor(ls).view(1,-1)\n",
    "    return ts\n",
    "\n",
    "def tags2tensor(tags): #标注转tensor\n",
    "    ls = [t2i[w] for w in tags]\n",
    "    ts = torch.LongTensor(ls).view(1,-1)\n",
    "    return ts\n",
    "\n",
    "dataloader=[]\n",
    "\n",
    "x0 = sent2tensor(training_data[0][0])\n",
    "x1= sent2tensor(training_data[1][0])\n",
    "y0= tags2tensor(training_data[0][1])\n",
    "y1= tags2tensor(training_data[1][1])\n",
    "\n",
    "dataloader.append((x0,y0))\n",
    "dataloader.append((x1,y1))\n",
    "\n",
    "#遍历和打印数据\n",
    "for i,(x,y) in enumerate(dataloader):\n",
    "    print(\"x{}:{}\\ny{}:{}\".format(i,x,i,y))"
   ]
  },
  {
   "cell_type": "markdown",
   "metadata": {},
   "source": [
    "# 模型"
   ]
  },
  {
   "cell_type": "code",
   "execution_count": 3,
   "metadata": {},
   "outputs": [
    {
     "data": {
      "text/plain": [
       "Variable containing:\n",
       "(0 ,.,.) = \n",
       " -0.8274  0.2095  3.0790\n",
       " -0.7784 -0.0715  3.0070\n",
       " -1.1415  0.4175  0.0699\n",
       " -0.9939  0.8711 -0.0362\n",
       " -0.9555  0.6633 -0.0691\n",
       " -1.0246  0.9569  0.2018\n",
       " -1.1476  0.9307  0.2106\n",
       " -1.0851  1.0210  0.1957\n",
       " -0.7988  0.2663  2.8962\n",
       " -0.5939  0.7209 -0.2349\n",
       " -0.8447  0.7910  0.0219\n",
       "[torch.FloatTensor of size (1,11,3)]"
      ]
     },
     "execution_count": 3,
     "metadata": {},
     "output_type": "execute_result"
    }
   ],
   "source": [
    "vocab_size = len(vocab) # 字典长度\n",
    "embed_dim = 64 # 嵌入的维度\n",
    "h_dim = 64 # 隐藏层的维度\n",
    "tag_size = len(tags) # 标记的种类\n",
    "\n",
    "net = Net(vocab_size, embed_dim, h_dim, tag_size)\n",
    "\n",
    "x = Variable(dataloader[0][0])\n",
    "y = Variable(dataloader[0][1])\n",
    "\n",
    "out = net(x,y)\n",
    "out # output: batch,seq,dim"
   ]
  },
  {
   "cell_type": "markdown",
   "metadata": {},
   "source": [
    "# 训练"
   ]
  },
  {
   "cell_type": "code",
   "execution_count": 11,
   "metadata": {},
   "outputs": [
    {
     "name": "stdout",
     "output_type": "stream",
     "text": [
      "epoch:0:loss:1.0343163311481476\n",
      "epoch:200:loss:0.0006844670133432373\n",
      "epoch:400:loss:0.00020297246373957023\n",
      "epoch:600:loss:9.734709237818606e-05\n",
      "epoch:800:loss:5.6534732721047476e-05\n",
      "epoch:1000:loss:3.636902238213224e-05\n",
      "epoch:1200:loss:2.491845498298062e-05\n",
      "epoch:1400:loss:1.7806871710490668e-05\n",
      "epoch:1600:loss:1.310716470470652e-05\n",
      "epoch:1800:loss:9.85917063189845e-06\n",
      "epoch:2000:loss:7.537576948379865e-06\n",
      "epoch:2200:loss:5.834984222019557e-06\n",
      "epoch:2400:loss:4.560754632620956e-06\n",
      "epoch:2600:loss:3.5922728329751408e-06\n",
      "epoch:2800:loss:2.8466412231864524e-06\n",
      "epoch:3000:loss:2.2667498456030444e-06\n",
      "epoch:3200:loss:1.8121363041245786e-06\n",
      "epoch:3400:loss:1.4535508512381057e-06\n",
      "epoch:3600:loss:1.1685967820085352e-06\n",
      "epoch:3800:loss:9.4201215006251e-07\n",
      "epoch:4000:loss:7.607190752878523e-07\n",
      "epoch:4200:loss:6.153274654252527e-07\n",
      "epoch:4400:loss:4.991909037244113e-07\n",
      "epoch:4600:loss:4.0345894092297385e-07\n",
      "epoch:4800:loss:3.277596078987699e-07\n"
     ]
    }
   ],
   "source": [
    "from train import train\n",
    "train(net, dataloader, num_epochs=5000, print_ever=200)"
   ]
  },
  {
   "cell_type": "markdown",
   "metadata": {},
   "source": [
    "# 预测"
   ]
  },
  {
   "cell_type": "code",
   "execution_count": 13,
   "metadata": {},
   "outputs": [
    {
     "name": "stdout",
     "output_type": "stream",
     "text": [
      "Variable containing:\n",
      "   16     9     6    11    15     4     0    13    14     7    10\n",
      "[torch.LongTensor of size (1,11)]\n",
      " Variable containing:\n",
      "    0     1     1     1     2     2     2     0     1     2     2\n",
      "[torch.LongTensor of size (1,11)]\n",
      "\n"
     ]
    },
    {
     "data": {
      "text/plain": [
       "(Variable containing:\n",
       "   10.4200   -4.3099   -5.2768\n",
       "    6.2078   21.0442    4.1433\n",
       "   16.5355   32.2205   15.8289\n",
       "   27.2963   43.3282   28.0949\n",
       "   36.4328   39.0461   54.4290\n",
       "   48.9578   47.1201   66.2943\n",
       "   62.3261   58.3926   77.4020\n",
       "   88.3678   72.8274   73.1027\n",
       "   83.5533   99.0469   83.3757\n",
       "   92.2646   94.6702  109.5445\n",
       "  104.4207  103.7436  119.3424\n",
       " [torch.FloatTensor of size (11,3)], Variable containing:\n",
       "     0     1     1     1     2     2     2     0     1     2     2\n",
       " [torch.LongTensor of size (1,11)])"
      ]
     },
     "execution_count": 13,
     "metadata": {},
     "output_type": "execute_result"
    }
   ],
   "source": [
    "x = Variable(dataloader[0][0])\n",
    "y = Variable(dataloader[0][1])\n",
    "print(x,y)\n",
    "net.viterbi(x)"
   ]
  },
  {
   "cell_type": "code",
   "execution_count": null,
   "metadata": {
    "collapsed": true
   },
   "outputs": [],
   "source": []
  }
 ],
 "metadata": {
  "kernelspec": {
   "display_name": "Python 3",
   "language": "python",
   "name": "python3"
  },
  "language_info": {
   "codemirror_mode": {
    "name": "ipython",
    "version": 3
   },
   "file_extension": ".py",
   "mimetype": "text/x-python",
   "name": "python",
   "nbconvert_exporter": "python",
   "pygments_lexer": "ipython3",
   "version": "3.6.3"
  }
 },
 "nbformat": 4,
 "nbformat_minor": 2
}
